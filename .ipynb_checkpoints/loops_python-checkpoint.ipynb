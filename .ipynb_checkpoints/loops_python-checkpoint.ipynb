{
 "cells": [
  {
   "cell_type": "markdown",
   "id": "b25f0313-cbcc-4b2f-9ae0-dbdbed04f87c",
   "metadata": {},
   "source": [
    "# LOOPS IN PYTHON"
   ]
  },
  {
   "cell_type": "code",
   "execution_count": 1,
   "id": "a98c5562-7ec0-4cc4-8608-10c964bd0701",
   "metadata": {},
   "outputs": [],
   "source": [
    "import numpy as np"
   ]
  },
  {
   "cell_type": "code",
   "execution_count": 2,
   "id": "26630fb0-66fc-43ab-b744-6aea4ed6c048",
   "metadata": {},
   "outputs": [
    {
     "name": "stdout",
     "output_type": "stream",
     "text": [
      "4\n",
      "8\n",
      "12\n",
      "16\n",
      "20\n",
      "24\n",
      "28\n"
     ]
    }
   ],
   "source": [
    "ar = np.array(list(range(2,31,1)))\n",
    "for i in ar:\n",
    "    if i % 4 == 0:\n",
    "        print(i)"
   ]
  },
  {
   "cell_type": "code",
   "execution_count": 3,
   "id": "3cc9fa8a-4894-46eb-aa4c-b195cbe3d1a4",
   "metadata": {},
   "outputs": [
    {
     "name": "stdout",
     "output_type": "stream",
     "text": [
      "2 + 3 = 5\n",
      "3 + 4 = 7\n",
      "4 + 5 = 9\n",
      "5 + 6 = 11\n",
      "6 + 7 = 13\n",
      "7 + 8 = 15\n",
      "8 + 9 = 17\n",
      "9 + 10 = 19\n",
      "10 + 11 = 21\n",
      "11 + 12 = 23\n",
      "12 + 13 = 25\n",
      "13 + 14 = 27\n",
      "14 + 15 = 29\n",
      "15 + 16 = 31\n",
      "16 + 17 = 33\n",
      "17 + 18 = 35\n",
      "18 + 19 = 37\n",
      "19 + 20 = 39\n",
      "20 + 21 = 41\n",
      "21 + 22 = 43\n",
      "22 + 23 = 45\n",
      "23 + 24 = 47\n",
      "24 + 25 = 49\n",
      "25 + 26 = 51\n",
      "26 + 27 = 53\n",
      "27 + 28 = 55\n",
      "28 + 29 = 57\n",
      "29 + 30 = 59\n",
      "30 + 31 = 61\n"
     ]
    }
   ],
   "source": [
    "ar\n",
    "for ii in ar:\n",
    "    print(ii,\"+\",ii+1,\"=\",ii + (ii+1))"
   ]
  },
  {
   "cell_type": "code",
   "execution_count": null,
   "id": "0f533cbf-9f67-497a-b836-4f62a8df944a",
   "metadata": {},
   "outputs": [],
   "source": []
  },
  {
   "cell_type": "code",
   "execution_count": 4,
   "id": "e7b2757d-242b-47c4-8fd0-d7890e3499df",
   "metadata": {},
   "outputs": [
    {
     "name": "stdout",
     "output_type": "stream",
     "text": [
      "2\n",
      "3\n",
      "4\n",
      "5\n",
      "6\n",
      "7\n",
      "8\n",
      "9\n",
      "10\n",
      "11\n",
      "12\n",
      "13\n",
      "14\n",
      "15\n",
      "16\n",
      "17\n",
      "18\n",
      "19\n",
      "20\n",
      "21\n",
      "22\n",
      "23\n",
      "24\n",
      "25\n",
      "26\n",
      "27\n",
      "28\n",
      "29\n",
      "30\n"
     ]
    }
   ],
   "source": [
    "i = 0\n",
    "while i < len(ar):\n",
    "    print(ar[i])\n",
    "    i = i + 1"
   ]
  },
  {
   "cell_type": "code",
   "execution_count": null,
   "id": "9aa4d254-8391-4be5-8ba7-26fed27c0591",
   "metadata": {},
   "outputs": [],
   "source": []
  },
  {
   "cell_type": "code",
   "execution_count": 5,
   "id": "cc355b42-8f7b-4cb5-9bbc-c1da3e580b83",
   "metadata": {},
   "outputs": [
    {
     "name": "stdin",
     "output_type": "stream",
     "text": [
      "Input password eddy\n"
     ]
    }
   ],
   "source": [
    "user_pass = input(\"Input password\")"
   ]
  },
  {
   "cell_type": "code",
   "execution_count": 6,
   "id": "39275569-f6fe-4a03-8f88-b3a20a49c89f",
   "metadata": {},
   "outputs": [
    {
     "name": "stdin",
     "output_type": "stream",
     "text": [
      "Input password eddy\n"
     ]
    }
   ],
   "source": [
    "user_pass1 = input(\"Input password\")\n",
    "i = 0\n",
    "while user_pass1 != user_pass:\n",
    "    print(\"Incorrect password,try again!\")\n",
    "    i = i + 1\n",
    "    if i == 5:\n",
    "        print(\"Your account has been blocked!!\")\n",
    "        break\n",
    "    else:\n",
    "        user_pass1 = input(\"Input password\")"
   ]
  },
  {
   "cell_type": "code",
   "execution_count": 7,
   "id": "1443b401-29fe-44bb-b2d3-9fe42674b215",
   "metadata": {},
   "outputs": [],
   "source": [
    "import pandas as pd"
   ]
  },
  {
   "cell_type": "code",
   "execution_count": 8,
   "id": "6f5d6535-195b-4d27-b3ec-528a7bf565ef",
   "metadata": {},
   "outputs": [
    {
     "data": {
      "text/html": [
       "<div>\n",
       "<style scoped>\n",
       "    .dataframe tbody tr th:only-of-type {\n",
       "        vertical-align: middle;\n",
       "    }\n",
       "\n",
       "    .dataframe tbody tr th {\n",
       "        vertical-align: top;\n",
       "    }\n",
       "\n",
       "    .dataframe thead th {\n",
       "        text-align: right;\n",
       "    }\n",
       "</style>\n",
       "<table border=\"1\" class=\"dataframe\">\n",
       "  <thead>\n",
       "    <tr style=\"text-align: right;\">\n",
       "      <th></th>\n",
       "      <th>formula</th>\n",
       "      <th>compounds</th>\n",
       "      <th>cas</th>\n",
       "      <th>molar_weigth</th>\n",
       "      <th>tfp_k</th>\n",
       "      <th>Tb(K)</th>\n",
       "      <th>Tc(K)</th>\n",
       "      <th>Pc(bar)</th>\n",
       "      <th>Vc(cm3/mol)</th>\n",
       "      <th>zc</th>\n",
       "      <th>...</th>\n",
       "      <th>cp_a4</th>\n",
       "      <th>cpig</th>\n",
       "      <th>cpliq</th>\n",
       "      <th>antoine_a</th>\n",
       "      <th>antoine_b</th>\n",
       "      <th>antoine_c</th>\n",
       "      <th>pvpmin_bar</th>\n",
       "      <th>tmin_k</th>\n",
       "      <th>pvpmax_bar</th>\n",
       "      <th>tmax_k</th>\n",
       "    </tr>\n",
       "  </thead>\n",
       "  <tbody>\n",
       "    <tr>\n",
       "      <th>0</th>\n",
       "      <td>He</td>\n",
       "      <td>helium-3</td>\n",
       "      <td>14762-55-1</td>\n",
       "      <td>3.017</td>\n",
       "      <td>1.01</td>\n",
       "      <td>3.33</td>\n",
       "      <td>3.31</td>\n",
       "      <td>1.14</td>\n",
       "      <td>72.5</td>\n",
       "      <td>0.300</td>\n",
       "      <td>...</td>\n",
       "      <td>0.000000e+00</td>\n",
       "      <td>20.79</td>\n",
       "      <td>NaN</td>\n",
       "      <td>1.39750</td>\n",
       "      <td>5.5940</td>\n",
       "      <td>273.84</td>\n",
       "      <td>0.02</td>\n",
       "      <td>1.12</td>\n",
       "      <td>2.0</td>\n",
       "      <td>4.41</td>\n",
       "    </tr>\n",
       "    <tr>\n",
       "      <th>1</th>\n",
       "      <td>He</td>\n",
       "      <td>helium</td>\n",
       "      <td>7440-59-7</td>\n",
       "      <td>4.003</td>\n",
       "      <td>2.15</td>\n",
       "      <td>4.30</td>\n",
       "      <td>5.19</td>\n",
       "      <td>2.27</td>\n",
       "      <td>57.3</td>\n",
       "      <td>0.301</td>\n",
       "      <td>...</td>\n",
       "      <td>0.000000e+00</td>\n",
       "      <td>20.79</td>\n",
       "      <td>NaN</td>\n",
       "      <td>1.68360</td>\n",
       "      <td>8.1548</td>\n",
       "      <td>273.71</td>\n",
       "      <td>0.02</td>\n",
       "      <td>1.85</td>\n",
       "      <td>2.0</td>\n",
       "      <td>5.34</td>\n",
       "    </tr>\n",
       "    <tr>\n",
       "      <th>2</th>\n",
       "      <td>H2</td>\n",
       "      <td>hydrogen</td>\n",
       "      <td>1333-74-0</td>\n",
       "      <td>2.016</td>\n",
       "      <td>13.83</td>\n",
       "      <td>20.27</td>\n",
       "      <td>32.98</td>\n",
       "      <td>12.93</td>\n",
       "      <td>64.2</td>\n",
       "      <td>0.303</td>\n",
       "      <td>...</td>\n",
       "      <td>-2.130000e-12</td>\n",
       "      <td>28.84</td>\n",
       "      <td>NaN</td>\n",
       "      <td>2.93954</td>\n",
       "      <td>66.7954</td>\n",
       "      <td>275.65</td>\n",
       "      <td>0.05</td>\n",
       "      <td>10.25</td>\n",
       "      <td>2.0</td>\n",
       "      <td>22.82</td>\n",
       "    </tr>\n",
       "  </tbody>\n",
       "</table>\n",
       "<p>3 rows × 28 columns</p>\n",
       "</div>"
      ],
      "text/plain": [
       "  formula compounds         cas  molar_weigth  tfp_k  Tb(K)  Tc(K)  Pc(bar)  \\\n",
       "0      He  helium-3  14762-55-1         3.017   1.01   3.33   3.31     1.14   \n",
       "1      He    helium   7440-59-7         4.003   2.15   4.30   5.19     2.27   \n",
       "2      H2  hydrogen   1333-74-0         2.016  13.83  20.27  32.98    12.93   \n",
       "\n",
       "   Vc(cm3/mol)     zc  ...         cp_a4   cpig  cpliq antoine_a  antoine_b  \\\n",
       "0         72.5  0.300  ...  0.000000e+00  20.79    NaN   1.39750     5.5940   \n",
       "1         57.3  0.301  ...  0.000000e+00  20.79    NaN   1.68360     8.1548   \n",
       "2         64.2  0.303  ... -2.130000e-12  28.84    NaN   2.93954    66.7954   \n",
       "\n",
       "   antoine_c  pvpmin_bar  tmin_k  pvpmax_bar  tmax_k  \n",
       "0     273.84        0.02    1.12         2.0    4.41  \n",
       "1     273.71        0.02    1.85         2.0    5.34  \n",
       "2     275.65        0.05   10.25         2.0   22.82  \n",
       "\n",
       "[3 rows x 28 columns]"
      ]
     },
     "execution_count": 8,
     "metadata": {},
     "output_type": "execute_result"
    }
   ],
   "source": [
    "data = pd.read_excel(\"mol_properties.xlsx\")\n",
    "data.head(3)"
   ]
  },
  {
   "cell_type": "code",
   "execution_count": 22,
   "id": "1d40cbce-cad3-4b5e-9a44-f7cb119f8dd7",
   "metadata": {},
   "outputs": [],
   "source": [
    "M = data.molar_weigth.values\n",
    "form = data.formula.values\n",
    "M_arr = []\n",
    "for i in M:\n",
    "    if i > 15 and i < 40:\n",
    "        M_arr.append(i)"
   ]
  },
  {
   "cell_type": "code",
   "execution_count": 32,
   "id": "8cd0e1a9-d20d-4353-a853-c4a50600ead4",
   "metadata": {},
   "outputs": [
    {
     "data": {
      "text/plain": [
       "array([20.18 , 28.014, 28.01 , 37.997, 39.948, 31.999, 16.043, 30.006,\n",
       "       28.054, 30.07 , 33.998, 36.461, 26.038, 37.467, 34.033, 34.082,\n",
       "       17.031, 20.049, 31.057, 20.006, 32.042, 18.015, 20.028, 32.045,\n",
       "       32.066, 36.094, 37.016, 22.032])"
      ]
     },
     "execution_count": 32,
     "metadata": {},
     "output_type": "execute_result"
    }
   ],
   "source": [
    "M_arr1 = np.array(M_arr)\n",
    "M_arr1"
   ]
  },
  {
   "cell_type": "code",
   "execution_count": 34,
   "id": "a38fe035-ddc1-433c-92aa-ebfbae125a43",
   "metadata": {},
   "outputs": [
    {
     "data": {
      "text/plain": [
       "array(['Ne', 'N2', 'CO', 'F2', 'Ar', 'O2', 'CH4', 'NO', 'C2H4', 'C2H6',\n",
       "       'H3P', 'ClH', 'C2H2', 'ClD', 'CH3F', 'H2S', 'H3N', 'D3N', 'CH5N',\n",
       "       'FH', 'CH4O', 'H2O', 'D2O', 'H4N2', 'S', 'D2S', 'D3P', 'OT2'],\n",
       "      dtype=object)"
      ]
     },
     "execution_count": 34,
     "metadata": {},
     "output_type": "execute_result"
    }
   ],
   "source": [
    "ind = [np.where(M == i)[0][0] for i in M_arr1]\n",
    "form[ind]"
   ]
  },
  {
   "cell_type": "code",
   "execution_count": 35,
   "id": "f35f8b17-2f8d-46b0-b099-e72bb07d08f3",
   "metadata": {},
   "outputs": [
    {
     "data": {
      "text/html": [
       "<div>\n",
       "<style scoped>\n",
       "    .dataframe tbody tr th:only-of-type {\n",
       "        vertical-align: middle;\n",
       "    }\n",
       "\n",
       "    .dataframe tbody tr th {\n",
       "        vertical-align: top;\n",
       "    }\n",
       "\n",
       "    .dataframe thead th {\n",
       "        text-align: right;\n",
       "    }\n",
       "</style>\n",
       "<table border=\"1\" class=\"dataframe\">\n",
       "  <thead>\n",
       "    <tr style=\"text-align: right;\">\n",
       "      <th></th>\n",
       "      <th>Formula</th>\n",
       "      <th>M</th>\n",
       "    </tr>\n",
       "  </thead>\n",
       "  <tbody>\n",
       "    <tr>\n",
       "      <th>0</th>\n",
       "      <td>Ne</td>\n",
       "      <td>20.180</td>\n",
       "    </tr>\n",
       "    <tr>\n",
       "      <th>1</th>\n",
       "      <td>N2</td>\n",
       "      <td>28.014</td>\n",
       "    </tr>\n",
       "    <tr>\n",
       "      <th>2</th>\n",
       "      <td>CO</td>\n",
       "      <td>28.010</td>\n",
       "    </tr>\n",
       "    <tr>\n",
       "      <th>3</th>\n",
       "      <td>F2</td>\n",
       "      <td>37.997</td>\n",
       "    </tr>\n",
       "    <tr>\n",
       "      <th>4</th>\n",
       "      <td>Ar</td>\n",
       "      <td>39.948</td>\n",
       "    </tr>\n",
       "    <tr>\n",
       "      <th>5</th>\n",
       "      <td>O2</td>\n",
       "      <td>31.999</td>\n",
       "    </tr>\n",
       "    <tr>\n",
       "      <th>6</th>\n",
       "      <td>CH4</td>\n",
       "      <td>16.043</td>\n",
       "    </tr>\n",
       "    <tr>\n",
       "      <th>7</th>\n",
       "      <td>NO</td>\n",
       "      <td>30.006</td>\n",
       "    </tr>\n",
       "    <tr>\n",
       "      <th>8</th>\n",
       "      <td>C2H4</td>\n",
       "      <td>28.054</td>\n",
       "    </tr>\n",
       "    <tr>\n",
       "      <th>9</th>\n",
       "      <td>C2H6</td>\n",
       "      <td>30.070</td>\n",
       "    </tr>\n",
       "    <tr>\n",
       "      <th>10</th>\n",
       "      <td>H3P</td>\n",
       "      <td>33.998</td>\n",
       "    </tr>\n",
       "    <tr>\n",
       "      <th>11</th>\n",
       "      <td>ClH</td>\n",
       "      <td>36.461</td>\n",
       "    </tr>\n",
       "    <tr>\n",
       "      <th>12</th>\n",
       "      <td>C2H2</td>\n",
       "      <td>26.038</td>\n",
       "    </tr>\n",
       "    <tr>\n",
       "      <th>13</th>\n",
       "      <td>ClD</td>\n",
       "      <td>37.467</td>\n",
       "    </tr>\n",
       "    <tr>\n",
       "      <th>14</th>\n",
       "      <td>CH3F</td>\n",
       "      <td>34.033</td>\n",
       "    </tr>\n",
       "    <tr>\n",
       "      <th>15</th>\n",
       "      <td>H2S</td>\n",
       "      <td>34.082</td>\n",
       "    </tr>\n",
       "    <tr>\n",
       "      <th>16</th>\n",
       "      <td>H3N</td>\n",
       "      <td>17.031</td>\n",
       "    </tr>\n",
       "    <tr>\n",
       "      <th>17</th>\n",
       "      <td>D3N</td>\n",
       "      <td>20.049</td>\n",
       "    </tr>\n",
       "    <tr>\n",
       "      <th>18</th>\n",
       "      <td>CH5N</td>\n",
       "      <td>31.057</td>\n",
       "    </tr>\n",
       "    <tr>\n",
       "      <th>19</th>\n",
       "      <td>FH</td>\n",
       "      <td>20.006</td>\n",
       "    </tr>\n",
       "    <tr>\n",
       "      <th>20</th>\n",
       "      <td>CH4O</td>\n",
       "      <td>32.042</td>\n",
       "    </tr>\n",
       "    <tr>\n",
       "      <th>21</th>\n",
       "      <td>H2O</td>\n",
       "      <td>18.015</td>\n",
       "    </tr>\n",
       "    <tr>\n",
       "      <th>22</th>\n",
       "      <td>D2O</td>\n",
       "      <td>20.028</td>\n",
       "    </tr>\n",
       "    <tr>\n",
       "      <th>23</th>\n",
       "      <td>H4N2</td>\n",
       "      <td>32.045</td>\n",
       "    </tr>\n",
       "    <tr>\n",
       "      <th>24</th>\n",
       "      <td>S</td>\n",
       "      <td>32.066</td>\n",
       "    </tr>\n",
       "    <tr>\n",
       "      <th>25</th>\n",
       "      <td>D2S</td>\n",
       "      <td>36.094</td>\n",
       "    </tr>\n",
       "    <tr>\n",
       "      <th>26</th>\n",
       "      <td>D3P</td>\n",
       "      <td>37.016</td>\n",
       "    </tr>\n",
       "    <tr>\n",
       "      <th>27</th>\n",
       "      <td>OT2</td>\n",
       "      <td>22.032</td>\n",
       "    </tr>\n",
       "  </tbody>\n",
       "</table>\n",
       "</div>"
      ],
      "text/plain": [
       "   Formula       M\n",
       "0       Ne  20.180\n",
       "1       N2  28.014\n",
       "2       CO  28.010\n",
       "3       F2  37.997\n",
       "4       Ar  39.948\n",
       "5       O2  31.999\n",
       "6      CH4  16.043\n",
       "7       NO  30.006\n",
       "8     C2H4  28.054\n",
       "9     C2H6  30.070\n",
       "10     H3P  33.998\n",
       "11     ClH  36.461\n",
       "12    C2H2  26.038\n",
       "13     ClD  37.467\n",
       "14    CH3F  34.033\n",
       "15     H2S  34.082\n",
       "16     H3N  17.031\n",
       "17     D3N  20.049\n",
       "18    CH5N  31.057\n",
       "19      FH  20.006\n",
       "20    CH4O  32.042\n",
       "21     H2O  18.015\n",
       "22     D2O  20.028\n",
       "23    H4N2  32.045\n",
       "24       S  32.066\n",
       "25     D2S  36.094\n",
       "26     D3P  37.016\n",
       "27     OT2  22.032"
      ]
     },
     "execution_count": 35,
     "metadata": {},
     "output_type": "execute_result"
    }
   ],
   "source": [
    "pd.DataFrame({\"Formula\":form[ind],\"M\":M_arr1})"
   ]
  },
  {
   "cell_type": "code",
   "execution_count": null,
   "id": "b95eb249-4da7-4b35-8ccf-0d5fb7e0ea8b",
   "metadata": {},
   "outputs": [],
   "source": []
  },
  {
   "cell_type": "code",
   "execution_count": null,
   "id": "1c0b1f93-4b30-4a68-a0d6-59cd8632c19d",
   "metadata": {},
   "outputs": [],
   "source": []
  },
  {
   "cell_type": "code",
   "execution_count": null,
   "id": "14b3fb65-d906-42e9-b57e-42c44ec1b0fd",
   "metadata": {},
   "outputs": [],
   "source": []
  },
  {
   "cell_type": "code",
   "execution_count": null,
   "id": "06a82d9e-61dd-43db-b59b-0e60d09ef347",
   "metadata": {},
   "outputs": [],
   "source": []
  },
  {
   "cell_type": "code",
   "execution_count": null,
   "id": "5cd1fae0-5fcd-4b77-af45-b9d146eff2fe",
   "metadata": {},
   "outputs": [],
   "source": []
  }
 ],
 "metadata": {
  "kernelspec": {
   "display_name": "Python 3 (ipykernel)",
   "language": "python",
   "name": "python3"
  },
  "language_info": {
   "codemirror_mode": {
    "name": "ipython",
    "version": 3
   },
   "file_extension": ".py",
   "mimetype": "text/x-python",
   "name": "python",
   "nbconvert_exporter": "python",
   "pygments_lexer": "ipython3",
   "version": "3.12.7"
  }
 },
 "nbformat": 4,
 "nbformat_minor": 5
}
