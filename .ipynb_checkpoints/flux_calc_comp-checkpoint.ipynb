{
 "cells": [
  {
   "cell_type": "markdown",
   "id": "b05e608a-551f-4b4f-9301-18e9638e057a",
   "metadata": {},
   "source": [
    "# Binary"
   ]
  },
  {
   "cell_type": "code",
   "execution_count": 1,
   "id": "4f5fc993-f1c0-4062-8fab-5945b580100d",
   "metadata": {},
   "outputs": [],
   "source": [
    "import numpy as np\n",
    "import pandas as pd\n",
    "from sympy import * "
   ]
  },
  {
   "cell_type": "code",
   "execution_count": 2,
   "id": "fada426b-856e-4dce-b3c1-24e28f7ef424",
   "metadata": {},
   "outputs": [
    {
     "data": {
      "text/html": [
       "<div>\n",
       "<style scoped>\n",
       "    .dataframe tbody tr th:only-of-type {\n",
       "        vertical-align: middle;\n",
       "    }\n",
       "\n",
       "    .dataframe tbody tr th {\n",
       "        vertical-align: top;\n",
       "    }\n",
       "\n",
       "    .dataframe thead th {\n",
       "        text-align: right;\n",
       "    }\n",
       "</style>\n",
       "<table border=\"1\" class=\"dataframe\">\n",
       "  <thead>\n",
       "    <tr style=\"text-align: right;\">\n",
       "      <th></th>\n",
       "      <th>GAS</th>\n",
       "      <th>Symbol</th>\n",
       "      <th>MM</th>\n",
       "      <th>Tc K</th>\n",
       "      <th>Pc Mpa</th>\n",
       "      <th>Vc m3/kmol</th>\n",
       "      <th>atomic_volume</th>\n",
       "      <th>density</th>\n",
       "    </tr>\n",
       "  </thead>\n",
       "  <tbody>\n",
       "    <tr>\n",
       "      <th>0</th>\n",
       "      <td>argon</td>\n",
       "      <td>Ar</td>\n",
       "      <td>39.948</td>\n",
       "      <td>150.86</td>\n",
       "      <td>4.898</td>\n",
       "      <td>0.07459</td>\n",
       "      <td>16.20</td>\n",
       "      <td>NaN</td>\n",
       "    </tr>\n",
       "    <tr>\n",
       "      <th>1</th>\n",
       "      <td>bromine</td>\n",
       "      <td>Br2</td>\n",
       "      <td>159.808</td>\n",
       "      <td>584.15</td>\n",
       "      <td>10.300</td>\n",
       "      <td>0.13500</td>\n",
       "      <td>69.00</td>\n",
       "      <td>NaN</td>\n",
       "    </tr>\n",
       "    <tr>\n",
       "      <th>2</th>\n",
       "      <td>deuterium bromide</td>\n",
       "      <td>BrD</td>\n",
       "      <td>81.918</td>\n",
       "      <td>516.40</td>\n",
       "      <td>8.940</td>\n",
       "      <td>0.14300</td>\n",
       "      <td>25.32</td>\n",
       "      <td>NaN</td>\n",
       "    </tr>\n",
       "  </tbody>\n",
       "</table>\n",
       "</div>"
      ],
      "text/plain": [
       "                 GAS Symbol       MM    Tc K  Pc Mpa  Vc m3/kmol  \\\n",
       "0              argon     Ar   39.948  150.86   4.898     0.07459   \n",
       "1            bromine    Br2  159.808  584.15  10.300     0.13500   \n",
       "2  deuterium bromide    BrD   81.918  516.40   8.940     0.14300   \n",
       "\n",
       "   atomic_volume  density  \n",
       "0          16.20      NaN  \n",
       "1          69.00      NaN  \n",
       "2          25.32      NaN  "
      ]
     },
     "execution_count": 2,
     "metadata": {},
     "output_type": "execute_result"
    }
   ],
   "source": [
    "data_d = pd.read_excel(\"comp_data2.xlsx\")\n",
    "data_d.head(3)"
   ]
  },
  {
   "cell_type": "code",
   "execution_count": 3,
   "id": "6d5b5b78-c350-4c6c-9d99-11043c983f91",
   "metadata": {},
   "outputs": [],
   "source": [
    "M = data_d.MM.values\n",
    "em3 = data_d[[\"GAS\",\"Symbol\"]].values\n",
    "Tc_data = data_d[\"Tc K\"].values\n",
    "Pc_data = data_d[\"Pc Mpa\"].values\n",
    "Vc_data = data_d[\"Vc m3/kmol\"].values\n",
    "Vel_data = data_d[\"atomic_volume\"].values\n",
    "dens = data_d[\"density\"].values\n"
   ]
  },
  {
   "cell_type": "code",
   "execution_count": 4,
   "id": "60175308-3faf-450b-ba5d-8eac29862aef",
   "metadata": {},
   "outputs": [],
   "source": [
    "c1 = \"water\"\n",
    "c2 = \"air\"\n",
    "A = np.where(em3[:,0] == c1.lower())[0][0] # Parameter-index extraction\n",
    "B = np.where(em3[:,0] == c2.lower())[0][0] # user selects these two from a drop down or must type it"
   ]
  },
  {
   "cell_type": "code",
   "execution_count": 5,
   "id": "ac7a64d0-a3be-401e-83b6-d0aea82cccc4",
   "metadata": {},
   "outputs": [],
   "source": [
    "# choice of instance\n",
    "#Stagnant film\n",
    "# Equimolar counter\n",
    "#Non-equimolar counter\n",
    "\n",
    "#system \n",
    "#constant area\n",
    "#Variable area\n",
    "\n",
    "# when user provides compounds, it must calculate DAB\n"
   ]
  },
  {
   "cell_type": "code",
   "execution_count": 6,
   "id": "dd6e933f-4da8-4c63-a41e-84077be04923",
   "metadata": {},
   "outputs": [
    {
     "data": {
      "text/plain": [
       "array([1.88152866e-05, 1.99480039e-05, 2.53535707e-05])"
      ]
     },
     "execution_count": 6,
     "metadata": {},
     "output_type": "execute_result"
    }
   ],
   "source": [
    "T = 298.2\n",
    "P = 1.013\n",
    "compA = em3[A,1];\n",
    "compB = em3[B,1];\n",
    "M_A = M[A]; #mol formula of selected compound\n",
    "M_B = M[B];\n",
    "rho_A = dens[A]\n",
    "rho_B = dens[B]\n",
    "    \n",
    "K = 5.670367*10e-8\n",
    "    \n",
    "#Parameter evaluation for Chapman and wilke lee\n",
    "    \n",
    "Tc_A = Tc_data[A];\n",
    "Tc_B = Tc_data[B];\n",
    "Pc_A = Pc_data[A];\n",
    "Pc_B = Pc_data[B];\n",
    "Vc_A = Vc_data[A];\n",
    "Vc_B = Vc_data[B];\n",
    "    \n",
    "e_A = K*0.75*Tc_A;\n",
    "e_B = K*0.75*Tc_B;\n",
    "e_AB = np.sqrt(e_A*e_B);\n",
    "    \n",
    "sigmaA = (5/6)*((Vc_A)**(1/3))*10;\n",
    "sigmaB = (5/6)*((Vc_B)**(1/3))*10;\n",
    "sigmaAB = (sigmaA+sigmaB)/2;\n",
    "T_star = (K*T)/e_AB;\n",
    "\n",
    "C = [1.06036,0.15610,0.19300,0.47635,1.03587,1.52996,1.76474,3.89411]; #a-h cosntants\n",
    "\n",
    "ohm_D = ((C[0])/(T_star)**C[1]) + ((C[2])/(np.exp(C[3]*T_star))) + ((C[4])/(np.exp(C[5]*T_star))) + ((C[6])/(np.exp(C[7]*T_star)));\n",
    "# chapman\n",
    "DAB_ch = ((1.858*10**-7)*(T**(1.5))*((1/M_A) + (1/M_B))**0.5)/(P*(sigmaAB**2)*ohm_D);\n",
    "#wilke-lee\n",
    "MAB = 2*((1/M_A) + (1/M_B))**(-1);\n",
    "DAB_w = (((3.03 - ((0.98)/(MAB**0.5)))*(10**-3)*T**(3/2))/(P*1.013*(MAB**0.5)*(sigmaAB**2)*ohm_D))*10**(-4);\n",
    "#fuller\n",
    "sig_VA = Vel_data[A];\n",
    "sig_VB = Vel_data[B];\n",
    "DAB_F = ( (1.0133*10**(-7))*T**(1.75)*((1/M_A) + (1/M_B))**(0.5))/(P*(sig_VA**(1/3) + sig_VB**(1/3))**(2));\n",
    "res = np.array([DAB_ch,DAB_w,DAB_F])\n",
    "res   "
   ]
  },
  {
   "cell_type": "code",
   "execution_count": null,
   "id": "0132075a-e790-43f7-9d67-e196345da97a",
   "metadata": {},
   "outputs": [],
   "source": []
  },
  {
   "cell_type": "code",
   "execution_count": 7,
   "id": "f356601f-9488-406d-928f-a2c7c5cd1e8b",
   "metadata": {},
   "outputs": [],
   "source": [
    "# for liquids, user would give conc of diff specie in point 1 and point 2\n",
    "#provide densities "
   ]
  },
  {
   "cell_type": "code",
   "execution_count": 8,
   "id": "eecffde1-ce58-4f30-90b0-ab0e38726869",
   "metadata": {},
   "outputs": [
    {
     "data": {
      "text/plain": [
       "35.81961479435236"
      ]
     },
     "execution_count": 8,
     "metadata": {},
     "output_type": "execute_result"
    }
   ],
   "source": [
    "# using conc in mass frac\n",
    "rho_sol1 = 991\n",
    "rho_sol2 = 999\n",
    "Xa1 = 0.1\n",
    "Xa2 = 0.04 \n",
    "Mav1 = 1/((Xa1/M_A) + ((1-Xa1)/M_B))\n",
    "Mav2 = 1/((Xa2/M_A) + ((1-Xa2)/M_B))\n",
    "CT1 = (rho_sol1)/(Mav1) ####kmol/m3\n",
    "CT2 = (rho_sol2)/(Mav2)####kmol/m3\n",
    "CTavg = 0.5*(CT1 + CT2)####kmol/m3\n",
    "CTavg"
   ]
  },
  {
   "cell_type": "code",
   "execution_count": 9,
   "id": "98126d9b-38d9-489b-a7b6-bdbfbf9241fc",
   "metadata": {},
   "outputs": [
    {
     "data": {
      "text/latex": [
       "$\\displaystyle 0.00198760293239863$"
      ],
      "text/plain": [
       "0.00198760293239863"
      ]
     },
     "execution_count": 9,
     "metadata": {},
     "output_type": "execute_result"
    }
   ],
   "source": [
    "\n",
    "\n",
    "\n",
    "\n",
    "Ti = T\n",
    "# Case:stagnant film\n",
    "comp_vec = np.array([compA,compB])\n",
    "diff_comp = 0\n",
    "stag_comp = 1\n",
    "d_comp = comp_vec[diff_comp]\n",
    "s_comp = comp_vec[stag_comp]\n",
    "N_s_comp = 0 ######################flux of non diffusing\n",
    "corr = 2\n",
    "Dabi = res[corr]\n",
    "\n",
    "Dabi\n",
    "\n",
    "Ri = 8.314\n",
    "z1i = 0\n",
    "z2i = 2.5*10**-3\n",
    "Pa1i = 0.02718*10**5\n",
    "Pa2i = 0.02244*10**5\n",
    "\n",
    "\n",
    "\n",
    "\n",
    "\n",
    "z1,z2,z,Pa,Pt,Pa1,Pa2,R,T,Dab,Ct_avg,C_A1,C_A2 = symbols('z1,z2,z,Pa,Pt,Pa1,Pa2,R,T,Dab,Ct_avg,C_A1,C_A2')\n",
    "\n",
    "Na= symbols('Na',cls = Function)(z)\n",
    "ya = symbols('ya',cls = Function)(Pa)\n",
    "ya = Pa/Pt\n",
    "P_eq = simplify(Na-Mul(ya,Na))\n",
    "f_eq = Eq(Na*integrate(1,(z,z1,z2)),(-Dab/(R*T))*integrate(1/(P_eq.subs(Na,1)),(Pa,Pa1,Pa2))) ####################for gases\n",
    "feq2 = f_eq.subs({z1:z1i,z2:z2i,Pt:P*10**5,Pa1:Pa1i,Pa2:Pa2i,R:Ri,T:Ti,Dab:Dabi}) ####################for gases\n",
    "NA_g = feq2.rhs/(feq2.lhs.subs({Na:1}))\n",
    "NA_g\n",
    "\n",
    "# # flux_eq1 = Eq(Na,((-Dab)/(R*T))*(diff(Pa,z)) + ya*(Na + N_s_comp))\n",
    "# # flux_eq1"
   ]
  },
  {
   "cell_type": "code",
   "execution_count": 10,
   "id": "f91b00d0-b4ee-4b65-9c13-bca451d25bdc",
   "metadata": {},
   "outputs": [
    {
     "data": {
      "text/latex": [
       "$\\displaystyle - \\frac{Dab \\left(Ct_{avg} \\log{\\left(C_{A1} - Ct_{avg} \\right)} - Ct_{avg} \\log{\\left(C_{A2} - Ct_{avg} \\right)}\\right)}{- z_{1} + z_{2}}$"
      ],
      "text/plain": [
       "-Dab*(Ct_avg*log(C_A1 - Ct_avg) - Ct_avg*log(C_A2 - Ct_avg))/(-z1 + z2)"
      ]
     },
     "execution_count": 10,
     "metadata": {},
     "output_type": "execute_result"
    }
   ],
   "source": [
    "#for liquid\n",
    "f_eql = f_eq.subs({Pt:Ct_avg,Pa1:C_A1,Pa2:C_A2,R:1,T:1})\n",
    "# feq2 = f_eql.subs({z1:z1i,z2:z2i,Pt:P*10**5,Pa1:Pa1i,Pa2:Pa2i,R:Ri,T:Ti,Dab:Dabi}) ####################for gases\n",
    "NA_l = f_eql.rhs/(f_eql.lhs.subs({Na:1}))\n",
    "NA_l"
   ]
  },
  {
   "cell_type": "code",
   "execution_count": 11,
   "id": "b39ae68f-40b2-4c49-8fd5-8514fba08c88",
   "metadata": {},
   "outputs": [
    {
     "data": {
      "text/latex": [
       "$\\displaystyle 0.00193891962082582$"
      ],
      "text/plain": [
       "0.00193891962082582"
      ]
     },
     "execution_count": 11,
     "metadata": {},
     "output_type": "execute_result"
    }
   ],
   "source": [
    "#case ii : equimolar counter \n",
    "diff_comp = 0\n",
    "stag_comp = 1\n",
    "d_comp = comp_vec[diff_comp]\n",
    "s_comp = comp_vec[stag_comp]\n",
    "\n",
    "Pa1i = 0.02718*10**5\n",
    "Pa2i = 0.02244*10**5\n",
    "\n",
    "z1i = 0\n",
    "z2i = 2.5*10**-3\n",
    "\n",
    "P_t = P*10**5\n",
    "\n",
    "\n",
    "z1,z2,z,Pa,Pt,Pa1,Pa2,R,T,Dab = symbols('z1,z2,z,Pa,Pt,Pa1,Pa2,R,T,Dab')\n",
    "\n",
    "Na= symbols('Na',cls = Function)(z) ##it is a func of z because I'll integrate that with res to z\n",
    "ya = symbols('ya',cls = Function)(Pa)##it is a func of pa because I have to multiply it by Na in the subsequent equation, else I'll get an error\n",
    "# ya = Pa/Pt\n",
    "f_eq_e = Eq(Na*integrate(1,(z,z1,z2)),(-Dab/(R*T))*integrate(1,(Pa,Pa1,Pa2))) ####################for gases\n",
    "feq2_e = f_eq_e.subs({z1:z1i,z2:z2i,Pt:P*10**5,Pa1:Pa1i,Pa2:Pa2i,R:Ri,T:Ti,Dab:Dabi})####################for gases\n",
    "NA_g_e = feq2_e.rhs/(feq2_e.lhs.subs({Na:1}))\n",
    "NA_g_e"
   ]
  },
  {
   "cell_type": "code",
   "execution_count": 12,
   "id": "438bfd98-904a-4a2d-88a7-f5e76e50cbe5",
   "metadata": {},
   "outputs": [
    {
     "data": {
      "text/latex": [
       "$\\displaystyle - \\frac{Dab \\left(- C_{A1} + C_{A2}\\right)}{- z_{1} + z_{2}}$"
      ],
      "text/plain": [
       "-Dab*(-C_A1 + C_A2)/(-z1 + z2)"
      ]
     },
     "execution_count": 12,
     "metadata": {},
     "output_type": "execute_result"
    }
   ],
   "source": [
    "#for liquid\n",
    "f_eq_el = f_eq_e.subs({Pa1:C_A1,Pa2:C_A2,R:1,T:1})\n",
    "\n",
    "NA_el = f_eq_el.rhs/(f_eq_el.lhs.subs({Na:1}))\n",
    "NA_el"
   ]
  },
  {
   "cell_type": "code",
   "execution_count": 13,
   "id": "f71ac515-bf7b-429f-a09d-90c854bc0c13",
   "metadata": {},
   "outputs": [],
   "source": [
    "# NA_g2 = Dab*((P*10**5)/(R*T))*((ya1 - ya2)/(z2i - z1i))\n",
    "# NA_g2\n",
    "# 0.0019389196208258186"
   ]
  },
  {
   "cell_type": "code",
   "execution_count": null,
   "id": "41bf2f4e-e3cf-4d3b-901f-4f2c2e34cab6",
   "metadata": {},
   "outputs": [],
   "source": []
  },
  {
   "cell_type": "code",
   "execution_count": 14,
   "id": "a164c7f1-4e14-441b-98f4-dc672c98b659",
   "metadata": {},
   "outputs": [
    {
     "data": {
      "text/latex": [
       "$\\displaystyle 0.00189257088509948$"
      ],
      "text/plain": [
       "0.00189257088509948"
      ]
     },
     "execution_count": 14,
     "metadata": {},
     "output_type": "execute_result"
    }
   ],
   "source": [
    "#case ii : non-equimolar counter \n",
    "diff_comp = 0\n",
    "stag_comp = 1\n",
    "alpha = 2\n",
    "d_comp = comp_vec[diff_comp]\n",
    "s_comp = comp_vec[stag_comp]\n",
    "\n",
    "Pa1i = 0.02718*10**5\n",
    "Pa2i = 0.02244*10**5\n",
    "\n",
    "z1i = 0\n",
    "z2i = 2.5*10**-3\n",
    "P_t = P*10**5\n",
    "\n",
    "\n",
    "a, z1,z2,z,Pa,Pt,Pa1,Pa2,R,T,Dab = symbols('a,z1,z2,z,Pa,Pt,Pa1,Pa2,R,T,Dab')\n",
    "\n",
    "Na= symbols('Na',cls = Function)(z) ##it is a func of z because I'll integrate that with res to z\n",
    "ya = symbols('ya',cls = Function)(Pa)##it is a func of pa because I have to multiply it by Na in the subsequent equation, else I'll get an error\n",
    "ya = Pa/Pt\n",
    "P_eq_ne = simplify(Na-Mul(ya,Na*(1-a)))\n",
    "f_eq_ne = Eq(Na*integrate(1,(z,z1,z2)),(-Dab/(R*T))*integrate(1/(P_eq_ne.subs(Na,1)),(Pa,Pa1,Pa2))) ####################for gases\n",
    "feq2_ne = f_eq_ne.subs({a:alpha,z1:z1i,z2:z2i,Pt:P*10**5,Pa1:Pa1i,Pa2:Pa2i,R:Ri,T:Ti,Dab:Dabi}) ####################for gases\n",
    "NA_g_ne = feq2_ne.rhs/(feq2_ne.lhs.subs({Na:1}))\n",
    "NA_g_ne\n"
   ]
  },
  {
   "cell_type": "code",
   "execution_count": 15,
   "id": "f351c35b-2fb7-4bde-88fb-7dc34c20c6fb",
   "metadata": {},
   "outputs": [
    {
     "data": {
      "text/latex": [
       "$\\displaystyle - \\frac{Dab \\left(- \\frac{Ct_{avg} \\log{\\left(C_{A1} \\left(a - 1\\right) + Ct_{avg} \\right)}}{a - 1} + \\frac{Ct_{avg} \\log{\\left(C_{A2} \\left(a - 1\\right) + Ct_{avg} \\right)}}{a - 1}\\right)}{- z_{1} + z_{2}}$"
      ],
      "text/plain": [
       "-Dab*(-Ct_avg*log(C_A1*(a - 1) + Ct_avg)/(a - 1) + Ct_avg*log(C_A2*(a - 1) + Ct_avg)/(a - 1))/(-z1 + z2)"
      ]
     },
     "execution_count": 15,
     "metadata": {},
     "output_type": "execute_result"
    }
   ],
   "source": [
    "#for liquid\n",
    "f_eq_nel = f_eq_ne.subs({Pt:Ct_avg,Pa1:C_A1,Pa2:C_A2,R:1,T:1})\n",
    "# feq2 = f_eql.subs({z1:z1i,z2:z2i,Pt:P*10**5,Pa1:Pa1i,Pa2:Pa2i,R:Ri,T:Ti,Dab:Dabi}) ####################for gases\n",
    "NA_nel = f_eq_nel.rhs/(f_eq_nel.lhs.subs({Na:1}))\n",
    "NA_nel"
   ]
  },
  {
   "cell_type": "code",
   "execution_count": 21,
   "id": "568165b8-b928-436b-8c21-2da72fab8783",
   "metadata": {},
   "outputs": [
    {
     "data": {
      "text/latex": [
       "$\\displaystyle 3.02508891873248 \\cdot 10^{-7} t = 0.2388714140625$"
      ],
      "text/plain": [
       "Eq(3.02508891873248e-7*t, 0.2388714140625)"
      ]
     },
     "execution_count": 21,
     "metadata": {},
     "output_type": "execute_result"
    }
   ],
   "source": [
    "## variable area\n",
    "geometry = \"Sphere\"\n",
    "sigma = 0.004 #m\n",
    "Rsfi = 5.9384*10**-3\n",
    "P_inf =0\n",
    "P_as = 0.115*1000\n",
    "P_t = 1.01325 * 10**5\n",
    "Dabb = 6.92*10**-6\n",
    "\n",
    "\n",
    "rh_A,Rs,R_inf,Pa,Pt,Pas,Pa_inf,t,Rso,Rsf,Dab,T,R,M_a,O = symbols('rh_A,Rs,R_inf,Pa,Pt,Pas,Pa_inf,t,Rso,Rsf,Dab,T,R,M_a,O')\n",
    "r,h = symbols('r,h')\n",
    "ya = symbols('ya',cls = Function)(Pa)\n",
    "# WL = symbols('WL',cls = Function)(t)\n",
    "WR = symbols('WR',cls = Function)(Rs)\n",
    "ya = Pa/Pt\n",
    "\n",
    "Na= symbols('Na',cls = Function)(r)\n",
    "W= symbols('W',cls = Function)(r)\n",
    "P_eq = simplify(Na-Mul(ya,Na))\n",
    "Area,V = symbols('Area,V',cls = Function)\n",
    "\n",
    "\n",
    "V = (4/3)*pi*r**3\n",
    "Area = diff(V,r)\n",
    "v_eq = Eq(W*integrate(1/r**2,(r,Rs,np.inf)),((Area/r**2)*-Dab/(R*T))*integrate(1/(P_eq.subs(Na,1)),(Pa,Pas,Pa_inf))) ####################for gases\n",
    "WL = v_eq.rhs/(simplify(v_eq.lhs.subs({W:1})))\n",
    "Area2 = Area.subs({r:Rs})\n",
    "t1 = Eq(((WL)/(4*pi*Rs)) * integrate(1,(t,0,t)),(-rh_A*1000/M_a)*integrate(((Area2)/(4*pi*Rs)),(Rs,Rso,Rsf)))\n",
    "t11 = t1.subs({Rsf:0.594*10**-2,Rso:0.943*10**-2,Pt:1.013*10**5,Pa_inf:0,Pas:0.00114*101325,Dab:Dabb,rh_A:1140,M_a:128,R:Ri,T:318})\n",
    "t = (t11.rhs)/(t11.lhs.subs({t:1}))\n",
    "t/3600\n",
    "# t\n",
    "t11\n"
   ]
  },
  {
   "cell_type": "code",
   "execution_count": 20,
   "id": "29120a0f-ea73-4131-a4a1-a705900d2fa3",
   "metadata": {},
   "outputs": [
    {
     "data": {
      "text/latex": [
       "$\\displaystyle - 6.98264268404712 \\cdot 10^{-9} t \\left(-1165315.58545388 + 101325 \\log{\\left(101325 \\right)}\\right) = 0.0002021761108408$"
      ],
      "text/plain": [
       "Eq(-6.98264268404712e-9*t*(-1165315.58545388 + 101325*log(101325)), 0.0002021761108408)"
      ]
     },
     "execution_count": 20,
     "metadata": {},
     "output_type": "execute_result"
    }
   ],
   "source": [
    "## variable area\n",
    "geometry = \"Sphere\"\n",
    "sigma = 0.004 #m\n",
    "Rsfi = 5.9384*10**-3\n",
    "P_inf =0\n",
    "P_as = 0.115*1000\n",
    "P_t = 1.01325 * 10**5\n",
    "Dabb = 1.73*10**-5\n",
    "\n",
    "\n",
    "rh_A,Rs,R_inf,Pa,Pt,Pas,Pa_inf,t,Rso,Rsf,Dab,T,R,M_a,O = symbols('rh_A,Rs,R_inf,Pa,Pt,Pas,Pa_inf,t,Rso,Rsf,Dab,T,R,M_a,O')\n",
    "r,h = symbols('r,h')\n",
    "ya = symbols('ya',cls = Function)(Pa)\n",
    "# WL = symbols('WL',cls = Function)(t)\n",
    "WR = symbols('WR',cls = Function)(Rs)\n",
    "ya = Pa/Pt\n",
    "\n",
    "Na= symbols('Na',cls = Function)(r)\n",
    "W= symbols('W',cls = Function)(r)\n",
    "P_eq = simplify(Na-Mul(ya,Na))\n",
    "Area,V = symbols('Area,V',cls = Function)\n",
    "\n",
    "\n",
    "V = (4/3)*pi*r**3\n",
    "Area = diff(V,r)\n",
    "v_eq = Eq(W*integrate(1/r**2,(r,Rs,(Rs + O))),((Area/r**2)*-Dab/(R*T))*integrate(1/(P_eq.subs(Na,1)),(Pa,Pas,Pa_inf))) ####################for gases\n",
    "WL = v_eq.rhs/(simplify(v_eq.lhs.subs({W:1})))\n",
    "Area2 = Area.subs({r:Rs})\n",
    "t1 = Eq(((WL*(O/(O + Rs)))/(4*pi*Rs)) * integrate(1,(t,0,t)),(-rh_A*1000/M_a)*integrate(((Area2*(O/(O + Rs)))/(4*pi*Rs)),(Rs,Rso,Rsf)))\n",
    "t11 = t1.subs({O:0.004,Rsf:0.0025,Rso:0.005,Pt:101325,Pa_inf:0.025*101325,Pas:0,Dab:Dabb,rh_A:1.4341,M_a:34,R:Ri,T:298})\n",
    "t = simplify((t11.rhs)/(t11.lhs.subs({t:1})))\n",
    "\n",
    "# # t\n",
    "t11"
   ]
  },
  {
   "cell_type": "code",
   "execution_count": null,
   "id": "651323c1-fd81-429f-9b1e-f0e66c965718",
   "metadata": {},
   "outputs": [],
   "source": [
    "## variable area\n",
    "geometry = \"cylinder\"\n",
    "sigma = 0.004 #m\n",
    "Rsfi = 5.9384*10**-3\n",
    "P_inf =0\n",
    "P_as = 0.115*1000\n",
    "P_t = 1.01325 * 10**5\n",
    "Dabb = 6.92*10**-6\n",
    "\n",
    "\n",
    "rh_A,R_inf,Pa,Pt,Pas,Pa_inf,t,Rso,Rsf,Dab,T,R,M_a = symbols('rh_A,R_inf,Pa,Pt,Pas,Pa_inf,t,Rso,Rsf,Dab,T,R,M_a',positive=True)\n",
    "r,l = symbols('r,l',positive=True)\n",
    "Rs,O = symbols('Rs,O',positive=True)\n",
    "ya = symbols('ya',cls = Function)(Pa)\n",
    "# WL = symbols('WL',cls = Function)(t)\n",
    "WR = symbols('WR',cls = Function)(Rs)\n",
    "ya = Pa/Pt\n",
    "\n",
    "Na= symbols('Na',cls = Function)(r)\n",
    "W= symbols('W',cls = Function)(r)\n",
    "P_eq = simplify(Na-Mul(ya,Na))\n",
    "Area,V = symbols('Area,V',cls = Function)\n",
    "\n",
    "\n",
    "V = pi*r**2*l\n",
    "Area = diff(V,r)\n",
    "v_eq = Eq(W*logcombine(integrate((1/r),(r,Rs,(Rs + O)))),((Area/r)*-Dab/(R*T))*integrate(1/(P_eq.subs(Na,1)),(Pa,Pas,Pa_inf))) ####################for gases\n",
    "WL = v_eq.rhs/(simplify(v_eq.lhs.subs({W:1})))\n",
    "Area2 = Area.subs({r:Rs})\n",
    "t1 = Eq((WL*log((O + Rs)/(Rs)))/(2*pi*l*(-rh_A*1000/M_a)) * integrate(1,(t,0,t)),integrate(((Area2*log((O+Rs)/(Rs))))/(2*pi*l),(Rs,Rso,Rsf)))\n",
    "t11 = t1.subs({Rsf:0.2642*10**-2,Rso:0.3736*10**-2,Pt:101325,Pa_inf:0,Pas:0.00114*101325,Dab:Dabb,rh_A:1140,M_a:128,R:Ri,T:318,O:0.003})\n",
    "t = simplify((t11.rhs)/(t11.lhs.subs({t:1})))\n",
    "t/3600\n",
    "\n",
    "# # integrate(v_eq,(r,Rs,0))"
   ]
  },
  {
   "cell_type": "code",
   "execution_count": null,
   "id": "5be56548-3bc8-489f-89ee-2cc313a57dd1",
   "metadata": {},
   "outputs": [],
   "source": [
    "    "
   ]
  },
  {
   "cell_type": "code",
   "execution_count": null,
   "id": "ddc1baf0-46f9-499d-a327-586729b5aa60",
   "metadata": {},
   "outputs": [],
   "source": []
  },
  {
   "cell_type": "code",
   "execution_count": null,
   "id": "ee90982e-b38d-4c1c-8089-1237885c3a2d",
   "metadata": {},
   "outputs": [],
   "source": []
  },
  {
   "cell_type": "code",
   "execution_count": null,
   "id": "82591f55-4c35-4ce7-9abf-73dd2093f597",
   "metadata": {},
   "outputs": [],
   "source": []
  },
  {
   "cell_type": "code",
   "execution_count": null,
   "id": "a20f9c92-0d6b-4c69-9031-8abb12446105",
   "metadata": {},
   "outputs": [],
   "source": []
  },
  {
   "cell_type": "code",
   "execution_count": null,
   "id": "082bec37-4389-41ab-9048-508f3729fe2e",
   "metadata": {},
   "outputs": [],
   "source": [
    "# ## variable area\n",
    "# geometry = \"cylinder\"\n",
    "# sigma = 0.004 #m\n",
    "# Rsfi = 5.9384*10**-3\n",
    "# P_inf =0\n",
    "# P_as = 0.115*1000\n",
    "# P_t = 1.01325 * 10**5\n",
    "# Dabb = 6.92*10**-6\n",
    "\n",
    "\n",
    "# rh_A,R_inf,Pa,Pt,Pas,Pa_inf,t,Rso,Rsf,Dab,T,R,M_a = symbols('rh_A,R_inf,Pa,Pt,Pas,Pa_inf,t,Rso,Rsf,Dab,T,R,M_a',positive=True)\n",
    "# r,l = symbols('r,l',positive=True)\n",
    "# Rs,O = symbols('Rs,O',positive=True)\n",
    "# ya = symbols('ya',cls = Function)(Pa)\n",
    "# # WL = symbols('WL',cls = Function)(t)\n",
    "# WR = symbols('WR',cls = Function)(Rs)\n",
    "# ya = Pa/Pt\n",
    "\n",
    "# Na= symbols('Na',cls = Function)(r)\n",
    "# W= symbols('W',cls = Function)(r)\n",
    "# P_eq = simplify(Na-Mul(ya,Na))\n",
    "# Area,V = symbols('Area,V',cls = Function)\n",
    "\n",
    "\n",
    "# V = pi*r**2*l\n",
    "# Area = diff(V,r)\n",
    "# v_eq = Eq(W*logcombine(integrate((1/r),(r,Rs,np.inf))),((Area/r)*-Dab/(R*T))*integrate(1/(P_eq.subs(Na,1)),(Pa,Pas,Pa_inf))) ####################for gases\n",
    "# WL = v_eq.rhs/(simplify(v_eq.lhs.subs({W:1})))\n",
    "# Area2 = Area.subs({r:Rs})\n",
    "# t1 = Eq((WL*log((O + Rs)/(Rs)))/(2*pi*l*(-rh_A*1000/M_a)) * integrate(1,(t,0,t)),integrate(((Area2*log((O+Rs)/(Rs))))/(2*pi*l),(Rs,Rso,Rsf)))\n",
    "# t11 = t1.subs({Rsf:0.2642*10**-2,Rso:0.3736*10**-2,Pt:101325,Pa_inf:0,Pas:0.00114*101325,Dab:Dabb,rh_A:1140,M_a:128,R:Ri,T:318,O:0.003})\n",
    "# # t = simplify((t11.rhs)/(t11.lhs.subs({t:1})))\n",
    "# # t/3600\n",
    "\n",
    "# # # integrate(v_eq,(r,Rs,0))\n",
    "# v_eq"
   ]
  },
  {
   "cell_type": "code",
   "execution_count": null,
   "id": "a62dac0d-a749-4bf0-93a6-b660b82a2e17",
   "metadata": {},
   "outputs": [],
   "source": []
  },
  {
   "cell_type": "code",
   "execution_count": null,
   "id": "8a74a819-f3ab-4eb1-90ee-d44e12411c9a",
   "metadata": {},
   "outputs": [],
   "source": []
  },
  {
   "cell_type": "code",
   "execution_count": null,
   "id": "035e4f97-b91a-4f99-bbe0-e4ce22fcd25b",
   "metadata": {},
   "outputs": [],
   "source": []
  },
  {
   "cell_type": "code",
   "execution_count": null,
   "id": "1bd3dbe9-1d98-4cd7-892b-9f5f4f707a5e",
   "metadata": {},
   "outputs": [],
   "source": []
  },
  {
   "cell_type": "code",
   "execution_count": null,
   "id": "1d196102-dbab-43a9-8da9-6d623ca2ba8e",
   "metadata": {},
   "outputs": [],
   "source": []
  },
  {
   "cell_type": "code",
   "execution_count": null,
   "id": "3d58b47b-6be7-405f-aa41-1b76bb3d02c1",
   "metadata": {},
   "outputs": [],
   "source": []
  },
  {
   "cell_type": "code",
   "execution_count": null,
   "id": "90d74078-981c-4850-87f0-26b69038dc85",
   "metadata": {},
   "outputs": [],
   "source": []
  },
  {
   "cell_type": "code",
   "execution_count": null,
   "id": "89a87238-dfda-4f55-91fd-e89d6666b123",
   "metadata": {},
   "outputs": [],
   "source": []
  },
  {
   "cell_type": "code",
   "execution_count": null,
   "id": "912a9294-ceaf-427c-be22-65513024875e",
   "metadata": {},
   "outputs": [],
   "source": []
  },
  {
   "cell_type": "code",
   "execution_count": null,
   "id": "59941856-a91d-48ce-9fa5-f5f6419284a0",
   "metadata": {},
   "outputs": [],
   "source": []
  }
 ],
 "metadata": {
  "kernelspec": {
   "display_name": "Python 3 (ipykernel)",
   "language": "python",
   "name": "python3"
  },
  "language_info": {
   "codemirror_mode": {
    "name": "ipython",
    "version": 3
   },
   "file_extension": ".py",
   "mimetype": "text/x-python",
   "name": "python",
   "nbconvert_exporter": "python",
   "pygments_lexer": "ipython3",
   "version": "3.12.7"
  }
 },
 "nbformat": 4,
 "nbformat_minor": 5
}
