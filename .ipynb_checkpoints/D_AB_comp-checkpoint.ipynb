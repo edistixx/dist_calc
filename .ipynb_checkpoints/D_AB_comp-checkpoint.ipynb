{
 "cells": [
  {
   "cell_type": "code",
   "execution_count": 2,
   "id": "fdbb6022-642b-4f1e-a311-a4411ab419fa",
   "metadata": {},
   "outputs": [],
   "source": [
    "import numpy as np\n",
    "import pandas as pd\n",
    "from sympy import * \n"
   ]
  },
  {
   "cell_type": "code",
   "execution_count": 4,
   "id": "72dfd3ee-3e2e-48f0-9de4-615cba7643ce",
   "metadata": {},
   "outputs": [],
   "source": [
    "data_d = pd.read_excel(\"comp_data2.xlsx\")\n",
    "data_d\n",
    "def Dab(T,P,c1,c2,corr):\n",
    "    \n",
    "    M = data_d.MM.values\n",
    "    em3 = data_d[[\"GAS\",\"Symbol\"]].values\n",
    "    Tc_data = data_d[\"Tc K\"].values\n",
    "    Pc_data = data_d[\"Pc Mpa\"].values\n",
    "    Vc_data = data_d[\"Vc m3/kmol\"].values\n",
    "    Vel_data = data_d[\"atomic_volume\"].values\n",
    "    A = np.where(em3[:,0] == c1.lower())[0][0] # Parameter-index extraction\n",
    "    B = np.where(em3[:,0] == c2.lower())[0][0] # user selects these two from a drop down or must type it\n",
    "\n",
    "    compA = em3[A,1];\n",
    "    compB = em3[B,1];\n",
    "    M_A = M[A]; #mol formula of selected compound\n",
    "    M_B = M[B];\n",
    "    \n",
    "    K = 5.670367*10e-8\n",
    "    \n",
    "    #Parameter evaluation for Chapman and wilke lee\n",
    "    \n",
    "    Tc_A = Tc_data[A];\n",
    "    Tc_B = Tc_data[B];\n",
    "    Pc_A = Pc_data[A];\n",
    "    Pc_B = Pc_data[B];\n",
    "    Vc_A = Vc_data[A];\n",
    "    Vc_B = Vc_data[B];\n",
    "    \n",
    "    e_A = K*0.75*Tc_A;\n",
    "    e_B = K*0.75*Tc_B;\n",
    "    e_AB = np.sqrt(e_A*e_B);\n",
    "    \n",
    "    sigmaA = (5/6)*((Vc_A)**(1/3))*10;\n",
    "    sigmaB = (5/6)*((Vc_B)**(1/3))*10;\n",
    "    sigmaAB = (sigmaA+sigmaB)/2;\n",
    "    T_star = (K*T)/e_AB;\n",
    "    \n",
    "    C = [1.06036,0.15610,0.19300,0.47635,1.03587,1.52996,1.76474,3.89411]; #a-h cosntants\n",
    "    \n",
    "    ohm_D = ((C[0])/(T_star)**C[1]) + ((C[2])/(np.exp(C[3]*T_star))) + ((C[4])/(np.exp(C[5]*T_star))) + ((C[6])/(np.exp(C[7]*T_star)));\n",
    "    # chapman\n",
    "    DAB_ch = ((1.858*10**-7)*(T**(1.5))*((1/M_A) + (1/M_B))**0.5)/(P*(sigmaAB**2)*ohm_D);\n",
    "  # wilke-lee\n",
    "    MAB = 2*((1/M_A) + (1/M_B))**(-1);\n",
    "    DAB_w = (((3.03 - ((0.98)/(MAB**0.5)))*(10**-3)*T**(3/2))/(P*1.013*(MAB**0.5)*(sigmaAB**2)*ohm_D))*10**(-4);\n",
    "    #fuller\n",
    "    sig_VA = Vel_data[A];\n",
    "    sig_VB = Vel_data[B];\n",
    "    DAB_F = ( (1.0133*10**(-7))*T**(1.75)*((1/M_A) + (1/M_B))**(0.5))/(P*(sig_VA**(1/3) + sig_VB**(1/3))**(2));\n",
    "    res = np.array([DAB_ch,DAB_w,DAB_F])\n",
    "    \n",
    "    \n",
    "    return res[[corr]],res\n"
   ]
  },
  {
   "cell_type": "code",
   "execution_count": null,
   "id": "d7b078c8-f96a-4037-802a-9a87ff67a00f",
   "metadata": {},
   "outputs": [],
   "source": []
  },
  {
   "cell_type": "code",
   "execution_count": 3,
   "id": "f16bb3d1-0c61-43e9-97c2-6cac7a28ee15",
   "metadata": {},
   "outputs": [
    {
     "ename": "NameError",
     "evalue": "name 'T' is not defined",
     "output_type": "error",
     "traceback": [
      "\u001b[1;31m---------------------------------------------------------------------------\u001b[0m",
      "\u001b[1;31mNameError\u001b[0m                                 Traceback (most recent call last)",
      "Cell \u001b[1;32mIn[3], line 35\u001b[0m\n\u001b[0;32m     30\u001b[0m     D1_sl \u001b[38;5;241m=\u001b[39m np\u001b[38;5;241m.\u001b[39marray([D1_s[i][\u001b[38;5;241m0\u001b[39m] \u001b[38;5;28;01mfor\u001b[39;00m i \u001b[38;5;129;01min\u001b[39;00m \u001b[38;5;28mrange\u001b[39m(\u001b[38;5;241m0\u001b[39m,\u001b[38;5;28mlen\u001b[39m(D1_s))])\n\u001b[0;32m     33\u001b[0m     \u001b[38;5;28;01mreturn\u001b[39;00m Di_mix,D1_sl,dij\n\u001b[1;32m---> 35\u001b[0m Di_mix,D1_sl,dij \u001b[38;5;241m=\u001b[39m mult_dab(T,P,corr,diff_spec,comp,frac)\n",
      "\u001b[1;31mNameError\u001b[0m: name 'T' is not defined"
     ]
    }
   ],
   "source": [
    "\n",
    "def mult_dab(T,P,corr,diff_spec,comp,frac):\n",
    "    \n",
    "    \n",
    "    diff_free_comp = np.delete(comp,diff_spec)\n",
    "    diff_free_frac = np.delete(frac,diff_spec)\n",
    "    \n",
    "    c1 = comp[diff_spec]\n",
    "    \n",
    "    D1_s = []\n",
    "    # finding binary diffusivities\n",
    "    for i in range(0,len(diff_free_comp)):\n",
    "        c2 = diff_free_comp[i]\n",
    "        D1_i,summary = Dab(T,P,c1,c2,corr)\n",
    "        D1_s.append(D1_i)\n",
    "    #finding y primes\n",
    "    yps = []\n",
    "    for i in range(0,len(diff_free_frac)):\n",
    "        yn = diff_free_frac[i]\n",
    "        ynp = yn/(1 - frac[diff_spec])\n",
    "        yps.append(ynp)\n",
    "    \n",
    "    # finding D1mix\n",
    "    den_ar = []\n",
    "    for i in range(0,len(diff_free_frac)):\n",
    "        denom = yps[i]/D1_s[i]\n",
    "        den_ar.append(denom)\n",
    "    \n",
    "    Di_mix = 1/(np.sum(den_ar))\n",
    "    dij = [comp[diff_spec] + \"-\" +i  for i in diff_free_comp ]\n",
    "    D1_sl = np.array([D1_s[i][0] for i in range(0,len(D1_s))])\n",
    "    \n",
    "    \n",
    "    return Di_mix,D1_sl,dij\n",
    "\n",
    "Di_mix,D1_sl,dij = mult_dab(T,P,corr,diff_spec,comp,frac)\n",
    "# "
   ]
  },
  {
   "cell_type": "code",
   "execution_count": null,
   "id": "d021b654-3803-49c3-8895-00a45dabf1a4",
   "metadata": {},
   "outputs": [],
   "source": []
  },
  {
   "cell_type": "code",
   "execution_count": null,
   "id": "89c26b6f-e556-48c7-b86f-34d12900edd6",
   "metadata": {},
   "outputs": [],
   "source": []
  },
  {
   "cell_type": "code",
   "execution_count": null,
   "id": "463bdec1-10a5-4bfc-8b9e-3459956b3924",
   "metadata": {},
   "outputs": [],
   "source": []
  }
 ],
 "metadata": {
  "kernelspec": {
   "display_name": "Python 3 (ipykernel)",
   "language": "python",
   "name": "python3"
  },
  "language_info": {
   "codemirror_mode": {
    "name": "ipython",
    "version": 3
   },
   "file_extension": ".py",
   "mimetype": "text/x-python",
   "name": "python",
   "nbconvert_exporter": "python",
   "pygments_lexer": "ipython3",
   "version": "3.12.7"
  }
 },
 "nbformat": 4,
 "nbformat_minor": 5
}
